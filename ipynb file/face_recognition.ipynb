{
 "cells": [
  {
   "cell_type": "code",
   "execution_count": 1,
   "metadata": {},
   "outputs": [],
   "source": [
    "# import necessary libraries\n",
    "import face_recognition\n",
    "import cv2\n",
    "import numpy as np\n",
    "from PIL import Image, ImageDraw\n",
    "from IPython.display import display\n",
    "import os"
   ]
  },
  {
   "cell_type": "code",
   "execution_count": 2,
   "metadata": {},
   "outputs": [],
   "source": [
    "# take to empty lists for saving encoding and their respective names\n",
    "known_face_names = []\n",
    "known_face_encodings = []"
   ]
  },
  {
   "cell_type": "code",
   "execution_count": 3,
   "metadata": {},
   "outputs": [],
   "source": [
    "# fix the location of the test images\n",
    "BASE_DIR = os.getcwd()\n",
    "image_dir = os.path.join(BASE_DIR, \"testOnline\")"
   ]
  },
  {
   "cell_type": "code",
   "execution_count": 4,
   "metadata": {},
   "outputs": [],
   "source": [
    "#find face locations and convert each face into a list with 128 features and save their names to identify them\n",
    "i=0\n",
    "for root, dirs, files in os.walk(image_dir):\n",
    "    for file in files:  \n",
    "        i=i+1\n",
    "        load_image = face_recognition.load_image_file('./testOnline/'+file)\n",
    "        load_image_face = face_recognition.face_encodings(load_image)\n",
    "        path = os.path.join(root,file)\n",
    "        #check if there is atleast one face detected in the image\n",
    "        if(len(load_image_face)>0):\n",
    "            known_face_encodings.append(load_image_face[0])\n",
    "        else:\n",
    "            print(path)\n",
    "        label = os.path.basename(path).replace(\".jpg\",\"\").replace(\"JPG\",\"\")\n",
    "        known_face_names.append(label)"
   ]
  },
  {
   "cell_type": "code",
   "execution_count": 5,
   "metadata": {},
   "outputs": [],
   "source": [
    "#convert known_face_encodings & known_face_names in to numpy arrays\n",
    "known_face_encodings = np.array(known_face_encodings)\n",
    "known_face_names = np.array(known_face_names)"
   ]
  },
  {
   "cell_type": "code",
   "execution_count": 6,
   "metadata": {},
   "outputs": [],
   "source": [
    "#save known_face_encodings & known_face_names in the drive for later use\n",
    "np.save('./testEncodings/known_face_encodings', known_face_encodings)\n",
    "np.save('./testEncodings/known_face_names', known_face_names)"
   ]
  },
  {
   "cell_type": "code",
   "execution_count": 7,
   "metadata": {},
   "outputs": [],
   "source": [
    "# load the encodeings and names of those encodings \n",
    "known_face_encodings = np.load('./testEncodings/known_face_encodings.npy')\n",
    "known_face_names = np.load('./testEncodings/known_face_names.npy')"
   ]
  },
  {
   "cell_type": "code",
   "execution_count": 8,
   "metadata": {},
   "outputs": [],
   "source": [
    "#converting back the numpy arrays into lists\n",
    "known_face_encodings = known_face_encodings.tolist()\n",
    "known_face_names = known_face_names.tolist()"
   ]
  },
  {
   "cell_type": "code",
   "execution_count": 17,
   "metadata": {},
   "outputs": [
    {
     "name": "stdout",
     "output_type": "stream",
     "text": [
      "['myles2', 'myles1']\n"
     ]
    }
   ],
   "source": [
    "# Load an image with an unknown face\n",
    "unknown_image = face_recognition.load_image_file('./testImage/test2'+'.jpg')\n",
    "\n",
    "# Find all the faces and face encodings in the unknown image\n",
    "face_locations = face_recognition.face_locations(unknown_image)\n",
    "face_encodings = face_recognition.face_encodings(unknown_image, face_locations)\n",
    "\n",
    "\n",
    "# Loop through each face found in the unknown image\n",
    "for (top, right, bottom, left), face_encoding in zip(face_locations, face_encodings):\n",
    "    # See if the face is a match for the known face(s)\n",
    "    matches = face_recognition.compare_faces(known_face_encodings, face_encoding)\n",
    "\n",
    "    name = \"Unknown\"\n",
    "\n",
    "    # Or instead, use the known face with the smallest distance to the new face\n",
    "    face_distances = face_recognition.face_distance(known_face_encodings, face_encoding)\n",
    "    A = face_distances\n",
    "    #declare the number of suggestions\n",
    "    n = 3\n",
    "    result = []\n",
    "    name = []\n",
    "    #check for closest match and set this to high value so that it doesn't come up in nest suggestion\n",
    "    for i in range(n):\n",
    "        mini = np.argmin(A)\n",
    "        if A[mini]<1.1:\n",
    "            A[mini]=1.1\n",
    "            result.append(mini)\n",
    "    #gather the names with closest n matches\n",
    "    for i in result:\n",
    "        if matches[i]:\n",
    "            name.append(known_face_names[i])\n",
    "#print the names of closest matches\n",
    "print(name)"
   ]
  },
  {
   "cell_type": "code",
   "execution_count": null,
   "metadata": {},
   "outputs": [],
   "source": []
  }
 ],
 "metadata": {
  "kernelspec": {
   "display_name": "Python 3",
   "language": "python",
   "name": "python3"
  },
  "language_info": {
   "codemirror_mode": {
    "name": "ipython",
    "version": 3
   },
   "file_extension": ".py",
   "mimetype": "text/x-python",
   "name": "python",
   "nbconvert_exporter": "python",
   "pygments_lexer": "ipython3",
   "version": "3.5.4"
  }
 },
 "nbformat": 4,
 "nbformat_minor": 2
}
